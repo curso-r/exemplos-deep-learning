{
  "cells": [
    {
      "cell_type": "raw",
      "metadata": {},
      "source": [
        "---\n",
        "title: Regressão Logística\n",
        "---"
      ]
    },
    {
      "cell_type": "markdown",
      "metadata": {},
      "source": [
        "Nesse exemplos vamos ajustar um modelo de regressão logística para dados simulados.\n",
        "O precesso de simulação dos dados lembra o [exemplo 4](./04-mlp.html)."
      ]
    },
    {
      "cell_type": "code",
      "metadata": {},
      "source": [
        "import numpy as np\n",
        "import seaborn as sns\n",
        "from tensorflow import keras\n",
        "from sklearn import metrics"
      ],
      "execution_count": null,
      "outputs": []
    },
    {
      "cell_type": "markdown",
      "metadata": {},
      "source": [
        "Vamos gerar os dados de input:"
      ]
    },
    {
      "cell_type": "code",
      "metadata": {},
      "source": [
        "n = 1000\n",
        "\n",
        "X = np.random.uniform(size=(n, 2))\n",
        "W = np.array([[-0.6], [0.7]])\n",
        "B = 0.1"
      ],
      "execution_count": null,
      "outputs": []
    },
    {
      "cell_type": "markdown",
      "metadata": {},
      "source": [
        "Agora vamos gerar a variável resposta. Note que primeiro geramos a probabilidade\n",
        "do `y` ser 1, usando `sigmoid(np.dot(X, W) + B)`. Em seguida, se a probabilidade\n",
        "de `y` ser igual 1 for maior do que 0.5, dizemos que ele vale 1."
      ]
    },
    {
      "cell_type": "code",
      "metadata": {},
      "source": [
        "def sigmoid(x):\n",
        "    return 1 / (1 + np.exp(-x))\n",
        "\n",
        "y = sigmoid(np.dot(X, W) + B)\n",
        "print(\"Prob y=1\", y[0:5])\n",
        "y = 1.0 * (y > 0.5)\n",
        "print(\"Y=\", y[0:5])"
      ],
      "execution_count": null,
      "outputs": []
    },
    {
      "cell_type": "markdown",
      "metadata": {},
      "source": [
        "Agora definimos o modelo. A definição é exatamente igual a definição do modelo\n",
        "da regressão linear ([exemplo 3](./03-keras.html)) exceto pela funçõ de ativação\n",
        "`sigmoid`.\n",
        "\n",
        "A função de ativação `sigmoid` faz com que output de `np.dot(X, W) + B` que acontece\n",
        "dentro da camada densa seja um número entre 0 e 1."
      ]
    },
    {
      "cell_type": "code",
      "metadata": {},
      "source": [
        "input = keras.layers.Input(shape=(2,))\n",
        "output = keras.layers.Dense(units=1, activation=\"sigmoid\")(input)\n",
        "model = keras.Model(inputs=input, outputs=output)\n",
        "\n",
        "model.summary()"
      ],
      "execution_count": null,
      "outputs": []
    },
    {
      "cell_type": "markdown",
      "metadata": {},
      "source": [
        "Agora vamos *compilar* o modelo passando a função de perda, otimizador e métricas.\n",
        "Pontos importantes:\n",
        "\n",
        "1. Como o problema agora é de classificação binária (o `y` pode ter valores 0 ou 1),\n",
        "usamos a função de perda `binary_crossentropy`.\n",
        "2. Podemos passar uma lista de métricas para o Keras calcular durante o ajuste do modelo.\n",
        "Por exemplo aqui, pedimos para ele calcular a acurácia."
      ]
    },
    {
      "cell_type": "code",
      "metadata": {},
      "source": [
        "model.compile(\n",
        "    loss=keras.losses.binary_crossentropy,\n",
        "    optimizer=keras.optimizers.SGD(learning_rate=0.1),\n",
        "    metrics=[\"accuracy\"]\n",
        ")"
      ],
      "execution_count": null,
      "outputs": []
    },
    {
      "cell_type": "markdown",
      "metadata": {},
      "source": [
        "Agora podemos ajustar o modelo. O parâmetro `validation_split=0.1` fala para o \n",
        "Keras separar 10% das observações de `(x,y)` e usá-las apenas para reportar \n",
        "métricas nessa base de validação (as observações são selecionadas de forma aleatória)."
      ]
    },
    {
      "cell_type": "code",
      "metadata": {},
      "source": [
        "#| column: screen-right\n",
        "history = model.fit(x=X, y=y, batch_size=32, epochs=20, validation_split=0.1,\n",
        "                    verbose=2)"
      ],
      "execution_count": null,
      "outputs": []
    },
    {
      "cell_type": "markdown",
      "metadata": {},
      "source": [
        "Podemos fazer graáfio da acurácia ao longo das épocas:"
      ]
    },
    {
      "cell_type": "code",
      "metadata": {},
      "source": [
        "sns.lineplot(x=range(20), y=history.history[\"val_accuracy\"])"
      ],
      "execution_count": null,
      "outputs": []
    },
    {
      "cell_type": "markdown",
      "metadata": {},
      "source": [
        "E uma matriz de confusão para o ponto de corte 0.5 - isto é, se a probabilidade\n",
        "predita for maior que 0.5 classificamos como `y=1`"
      ]
    },
    {
      "cell_type": "code",
      "metadata": {},
      "source": [
        "metrics.confusion_matrix(y, model.predict(X) > 0.5)"
      ],
      "execution_count": null,
      "outputs": []
    }
  ],
  "metadata": {
    "kernelspec": {
      "name": "python3",
      "language": "python",
      "display_name": "Python 3 (ipykernel)"
    }
  },
  "nbformat": 4,
  "nbformat_minor": 4
}