{
  "cells": [
    {
      "cell_type": "raw",
      "metadata": {},
      "source": [
        "---\n",
        "title: Convolução\n",
        "---"
      ]
    },
    {
      "cell_type": "markdown",
      "metadata": {},
      "source": [
        "Nesse exemplo vamos mostrar o que acontece por trás dos panos quando fazemos\n",
        "uma convolução no Keras."
      ]
    },
    {
      "cell_type": "code",
      "metadata": {},
      "source": [
        "from tensorflow import keras\n",
        "import numpy as np\n",
        "import matplotlib.pyplot as plt"
      ],
      "execution_count": null,
      "outputs": []
    },
    {
      "cell_type": "markdown",
      "metadata": {},
      "source": [
        "Começamos pegando uma imagem do banco de dados MNIST - famoso banco de dados\n",
        "de exemplos de deep learning que contém imagens de dígitos de 0 a 9 escritos à \n",
        "mão."
      ]
    },
    {
      "cell_type": "code",
      "metadata": {},
      "source": [
        "(x_train, _), (_, _) = keras.datasets.mnist.load_data()"
      ],
      "execution_count": null,
      "outputs": []
    },
    {
      "cell_type": "markdown",
      "metadata": {},
      "source": [
        "Podemos visualizar algumas imagens com:"
      ]
    },
    {
      "cell_type": "code",
      "metadata": {},
      "source": [
        "#| column: screen-right\n",
        "#| layout-ncol: 3\n",
        "plt.imshow(x_train[0])\n",
        "plt.show()\n",
        "plt.imshow(x_train[1])\n",
        "plt.show()\n",
        "plt.imshow(x_train[2])\n",
        "plt.show()"
      ],
      "execution_count": null,
      "outputs": []
    },
    {
      "cell_type": "markdown",
      "metadata": {},
      "source": [
        "Cada imagem é representada por uma matrix 28x28 em que os valores são a intensidade\n",
        "de cor. Os valores vão de 0 a 255.\n",
        "\n",
        "Agora vamos definir um kernel de convolução de tamanho 3x3."
      ]
    },
    {
      "cell_type": "code",
      "metadata": {},
      "source": [
        "w = np.random.uniform(size=(3, 3))\n",
        "w = np.array([[0, 0, 0], [1, 1, 1], [0, 0, 0]])"
      ],
      "execution_count": null,
      "outputs": []
    },
    {
      "cell_type": "markdown",
      "metadata": {},
      "source": [
        "Lembre-se que na convolução vamos, para cada pixel da imagem, vamos posicionar esse\n",
        "kernel e fazer a multiplicação entre ele e os vizinhos para poder somar.\n",
        "\n",
        "Primeiro vamos definir uma forma de encontrar os vizinhos. Dado um pixel na linha 9\n",
        "e coluna doze da imagem, podemos obter os vizinhos da seguinte forma:"
      ]
    },
    {
      "cell_type": "code",
      "metadata": {},
      "source": [
        "img = x_train[0, :, :] / 255.0\n",
        "# vizinhança de tamanho 3x3\n",
        "i = 9\n",
        "j = 12\n",
        "\n",
        "vizinhos = img[(i - 1) : (i + 2), (j - 1) : (j + 2)]"
      ],
      "execution_count": null,
      "outputs": []
    },
    {
      "cell_type": "markdown",
      "metadata": {},
      "source": [
        "Agora como sabemos como encontrar os vizinhos, vamos passear por todos os vizinhos\n",
        "para aplicar o algoritmo da convolução:"
      ]
    },
    {
      "cell_type": "code",
      "metadata": {},
      "source": [
        "new_img = img\n",
        "for i in range(1, img.shape[0] - 1):\n",
        "    for j in range(1, img.shape[1] - 1):\n",
        "        vizinhos = img[(i - 1) : (i + 2), (j - 1) : (j + 2)]\n",
        "        # multiplica pelo kernel e soma para gerar o novo valor\n",
        "        new_img[i, j] = np.sum(w * vizinhos)\n",
        "\n",
        "new_img = new_img[1:-1, 1:-1]"
      ],
      "execution_count": null,
      "outputs": []
    },
    {
      "cell_type": "markdown",
      "metadata": {},
      "source": [
        "A imagem gerada depois da convolução foi:"
      ]
    },
    {
      "cell_type": "code",
      "metadata": {},
      "source": [
        "plt.imshow(new_img)"
      ],
      "execution_count": null,
      "outputs": []
    },
    {
      "cell_type": "markdown",
      "metadata": {},
      "source": [
        "O Keras faz exatamente isso que o loop acima está fazendo quando usamos a camada\n",
        "Conv2D. Vamos reproduzir a mesma imagem, agora usando o Keras. Pontos importantes:\n",
        "\n",
        "1. O kernel para o Keras é um tensor com 4 dimensões: altura e largura do kernel,\n",
        "número de canais no input e número de filtros. Por isso tivemos que fazer o `reshape`.\n",
        "2. É recomendado usar ativações na convolução. Nesse exemplo não estamos usando para\n",
        "poder reproduzir o código acima.\n",
        "3. Existem diversas formas de padding. `padding='valid'` significa que não estamos\n",
        "fazendo padding, ou seja, só vamos passar pelos pixels que possuem todos os vizinhos.\n",
        "4. O parâmetro `weights` das camadas do Keras permite que você especifique os parâmetros\n",
        "iniciais manualmente.\n",
        "5. Desativamos o viés também para simplificar o loop acima."
      ]
    },
    {
      "cell_type": "code",
      "metadata": {},
      "source": [
        "w2 = np.reshape(w, (3, 3, 1, 1)) # o Kernel para o keras é uma array com 4 dimensões\n",
        "conv = keras.layers.Conv2D(\n",
        "    filters=1,\n",
        "    kernel_size=(3, 3),\n",
        "    activation=\"linear\",\n",
        "    padding=\"valid\",\n",
        "    weights=[w2],\n",
        "    use_bias=False,\n",
        ")"
      ],
      "execution_count": null,
      "outputs": []
    },
    {
      "cell_type": "markdown",
      "metadata": {},
      "source": [
        "Agora aplicamos essa cada na imagem."
      ]
    },
    {
      "cell_type": "code",
      "metadata": {},
      "source": [
        "# o Keras espera imagens no formato (nobs, altura, largura, canais)\n",
        "im = np.reshape(img, (1, 28, 28, 1)) \n",
        "out = conv(im)"
      ],
      "execution_count": null,
      "outputs": []
    },
    {
      "cell_type": "markdown",
      "metadata": {},
      "source": [
        "Você pode comparar a imagem gerada pelo Keras e pelo nosso loop e verificar que são\n",
        "idênticas."
      ]
    },
    {
      "cell_type": "code",
      "metadata": {},
      "source": [
        "plt.imshow(out.numpy()[0, :, :, 0])"
      ],
      "execution_count": null,
      "outputs": []
    }
  ],
  "metadata": {
    "kernelspec": {
      "name": "python3",
      "language": "python",
      "display_name": "Python 3 (ipykernel)"
    }
  },
  "nbformat": 4,
  "nbformat_minor": 4
}