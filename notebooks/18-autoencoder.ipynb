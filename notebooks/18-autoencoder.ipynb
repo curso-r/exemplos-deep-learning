{
  "cells": [
    {
      "cell_type": "raw",
      "metadata": {},
      "source": [
        "---\n",
        "title: Autoencoder\n",
        "---"
      ]
    },
    {
      "cell_type": "markdown",
      "metadata": {},
      "source": [
        "Nesse exemplo vamos ajustar um autoencoder com autoencoder na base do MNIST.\n",
        "Vamos também mostrar alguns dos possíveis usos do Autoencoder."
      ]
    },
    {
      "cell_type": "code",
      "metadata": {},
      "source": [
        "from tensorflow import keras\n",
        "import numpy as np\n",
        "import matplotlib.pyplot as plt"
      ],
      "execution_count": null,
      "outputs": []
    },
    {
      "cell_type": "markdown",
      "metadata": {},
      "source": [
        "Vamos obter o banco de dados:"
      ]
    },
    {
      "cell_type": "code",
      "metadata": {},
      "source": [
        "(x_train, _), (x_test, _) = keras.datasets.mnist.load_data()"
      ],
      "execution_count": null,
      "outputs": []
    },
    {
      "cell_type": "markdown",
      "metadata": {},
      "source": [
        "Podemos visualizar algumas imagens com:"
      ]
    },
    {
      "cell_type": "code",
      "metadata": {},
      "source": [
        "#| column: screen-right\n",
        "#| layout-ncol: 3\n",
        "plt.imshow(x_train[0])\n",
        "plt.show()\n",
        "plt.imshow(x_train[1])\n",
        "plt.show()\n",
        "plt.imshow(x_train[2])\n",
        "plt.show()"
      ],
      "execution_count": null,
      "outputs": []
    },
    {
      "cell_type": "markdown",
      "metadata": {},
      "source": [
        "Agora vamos definir o modelo. Nesse exemplo vamos usar uma forma um pouco diferente\n",
        "de definir o modelo que é usando classes. Dessa forma, podemos encapsular um pouco\n",
        "melhor o código. Também usaremos a `keras.Sequential` pela primeira vez, por isso\n",
        "vamos entender o que ele faz.\n",
        "\n",
        "Os 3 modelos definidos a seguir são equivalentes:"
      ]
    },
    {
      "cell_type": "code",
      "metadata": {},
      "source": [
        "# Usando a API funcional\n",
        "input = keras.layers.Input(shape=(28,28,1))\n",
        "output = keras.layers.Flatten()(input)\n",
        "output = keras.layers.Dense(units=64, activation=\"relu\")(output)\n",
        "model = keras.Model(inputs=input, outputs=output)\n",
        "\n",
        "# Usando a API sequencial\n",
        "model = keras.Sequential([\n",
        "  keras.layers.Flatten(),\n",
        "  keras.layers.Dense(units=64, activation='relu'),\n",
        "])\n",
        "\n",
        "# usando a API de classes\n",
        "class Modelo(keras.Model):\n",
        "  def __init__(self):\n",
        "    super(Modelo, self).__init__()\n",
        "    self.flatten = keras.layers.Flatten()\n",
        "    self.dense = keras.layers.Dense(units=64, activation=\"relu\")\n",
        "  def call(self, x):\n",
        "    out = self.flattent(x)\n",
        "    return self.dense(out)"
      ],
      "execution_count": null,
      "outputs": []
    },
    {
      "cell_type": "markdown",
      "metadata": {},
      "source": [
        "A vantagem da API sequencial do Keras é ser menos verbosa. No entanto, didaticamente\n",
        "a API funcional é mais clara, pois ela nos força a pensar em qual é o nosso input\n",
        "e como as camadas são combinadas. Já a API de classes é útil para modelos mais\n",
        "complicados pois permite que possamos encapsular melhor os códigos.\n",
        "**Note** que podemos misturar todas as API's no mesmo código e isso é considerado idiomático.\n",
        "\n",
        "\n",
        "Agora vamos definir o autoencoder. Definimos ele em duas partes:\n",
        "\n",
        "- Um encoder, que transforma a imagem do MNIST em um vetor.\n",
        "- Um decoder, que pega um vetor e transforma de volta em uma imagem."
      ]
    },
    {
      "cell_type": "code",
      "metadata": {},
      "source": [
        "class Autoencoder(keras.Model):\n",
        "  def __init__(self, latent_dim):\n",
        "    super(Autoencoder, self).__init__()\n",
        "    self.latent_dim = latent_dim   \n",
        "    self.encoder = keras.Sequential([\n",
        "      keras.layers.Rescaling(scale=1./255),\n",
        "      keras.layers.Flatten(),\n",
        "      keras.layers.Dense(latent_dim, activation='relu'),\n",
        "    ])\n",
        "    self.decoder = keras.Sequential([\n",
        "      keras.layers.Dense(784, activation='sigmoid'),\n",
        "      keras.layers.Reshape((28, 28, 1)),\n",
        "      keras.layers.Rescaling(scale=255.)\n",
        "    ])\n",
        "  def call(self, x):\n",
        "    encoded = self.encoder(x)\n",
        "    decoded = self.decoder(encoded)\n",
        "    return decoded"
      ],
      "execution_count": null,
      "outputs": []
    },
    {
      "cell_type": "markdown",
      "metadata": {},
      "source": [
        "Para incializar um modelo definido como uma classe usamos:"
      ]
    },
    {
      "cell_type": "code",
      "metadata": {},
      "source": [
        "autoencoder = Autoencoder(latent_dim=64)"
      ],
      "execution_count": null,
      "outputs": []
    },
    {
      "cell_type": "markdown",
      "metadata": {},
      "source": [
        "Então podemos compilar:"
      ]
    },
    {
      "cell_type": "code",
      "metadata": {},
      "source": [
        "autoencoder.compile(optimizer='adam', loss=keras.losses.MeanSquaredError())"
      ],
      "execution_count": null,
      "outputs": []
    },
    {
      "cell_type": "markdown",
      "metadata": {},
      "source": [
        "E ajustar:"
      ]
    },
    {
      "cell_type": "code",
      "metadata": {},
      "source": [
        "autoencoder.fit(x_train, x_train,\n",
        "  epochs=10,\n",
        "  shuffle=True,\n",
        "  validation_data=(x_test, x_test),\n",
        "  verbose=2\n",
        "  )"
      ],
      "execution_count": null,
      "outputs": []
    },
    {
      "cell_type": "markdown",
      "metadata": {},
      "source": [
        "Podemos usar o autoencoder para simplificar e depois reconstruir uma imagem:"
      ]
    },
    {
      "cell_type": "code",
      "metadata": {},
      "source": [
        "encoded = autoencoder.encoder.predict(x_test)\n",
        "decoded = autoencoder.decoder.predict(encoded)"
      ],
      "execution_count": null,
      "outputs": []
    },
    {
      "cell_type": "markdown",
      "metadata": {},
      "source": [
        "O 'encoder' do nosso autoencoder representa cada imagem como um vetor e esse vetor\n",
        "pode ser usado para comparar imagens, ou para ser input de algum outro modelo."
      ]
    },
    {
      "cell_type": "code",
      "metadata": {},
      "source": [
        "encoded[0]"
      ],
      "execution_count": null,
      "outputs": []
    },
    {
      "cell_type": "markdown",
      "metadata": {},
      "source": [
        "Visualize a imagem antes e depois:"
      ]
    },
    {
      "cell_type": "code",
      "metadata": {},
      "source": [
        "#| column: screen-right\n",
        "#| layout-ncol: 2\n",
        "plt.imshow(x_test[0])\n",
        "plt.show()\n",
        "plt.imshow(decoded[0].astype(\"uint8\"))\n",
        "plt.show()"
      ],
      "execution_count": null,
      "outputs": []
    }
  ],
  "metadata": {
    "kernelspec": {
      "name": "python3",
      "language": "python",
      "display_name": "Python 3 (ipykernel)"
    }
  },
  "nbformat": 4,
  "nbformat_minor": 4
}