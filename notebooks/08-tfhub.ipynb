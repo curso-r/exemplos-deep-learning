{
  "cells": [
    {
      "cell_type": "raw",
      "metadata": {},
      "source": [
        "---\n",
        "title: Modelos pré-treinados\n",
        "---"
      ]
    },
    {
      "cell_type": "markdown",
      "metadata": {},
      "source": [
        "Neste exemplo, ao invés de treinarmos um modelo convolucional do zero, como fizemos\n",
        "no [exemplo 07](./07-conv-mnist.html), vamos usar um modelo pré treinado. Para isso\n",
        "usaremos o TensorFlow Hub - bibilioteca que facilita todas as etapas para usar modelos\n",
        "pré treinados."
      ]
    },
    {
      "cell_type": "code",
      "metadata": {},
      "source": [
        "from tensorflow import keras\n",
        "import tensorflow_hub as hub\n",
        "import matplotlib.pyplot as plt"
      ],
      "execution_count": null,
      "outputs": []
    },
    {
      "cell_type": "markdown",
      "metadata": {},
      "source": [
        "A base de dados que vamos usar será o CIFAR10 que pode ser carregada no Keras com:"
      ]
    },
    {
      "cell_type": "code",
      "metadata": {},
      "source": [
        "(x_train, y_train), (x_test, y_test) = keras.datasets.cifar10.load_data()"
      ],
      "execution_count": null,
      "outputs": []
    },
    {
      "cell_type": "markdown",
      "metadata": {},
      "source": [
        "Podemos visualizar algumas imagens:\n",
        "Agora podemos visualizar algumas imagens do banco de dados:"
      ]
    },
    {
      "cell_type": "code",
      "metadata": {},
      "source": [
        "#| column: screen-right\n",
        "#| layout-ncol: 3\n",
        "plt.imshow(x_train[0])\n",
        "plt.show()\n",
        "plt.imshow(x_train[1])\n",
        "plt.show()\n",
        "plt.imshow(x_train[2])\n",
        "plt.show()"
      ],
      "execution_count": null,
      "outputs": []
    },
    {
      "cell_type": "markdown",
      "metadata": {},
      "source": [
        "Vamos agora definir o modelo. Ponto importantes:\n",
        "\n",
        "1. Cada modelo no tfhub possui uma documentação ([exemplo](https://tfhub.dev/google/imagenet/mobilenet_v1_100_224/feature_vector/5)) que vai falar o formato esperado da imagem. No caso deste MobileNet que estamos usando é esperado que a imagem tenha cores como valores entre 0 e 1 e que a imagem tenha tamanho 224x224.\n",
        "2. Usamos as camadas `Rescaling` e `Resizing` mudar as cores de inteiros de [1,255] em\n",
        "valores entre 0 e 1 e para aumentar o tamanho das imagens de 32x32 para 224x224.\n",
        "3. Para usar o modelo pré treinado, basta passar a sua URL para a camada `hub.KerasLayer`. Usamos `trainable=False` pois queremos deixar fixos os pesos deste modelo.\n",
        "4. O modelo pré-treinado está transformando cada imagem em um vetor de tamanho 1024. Em seguida usamos uma regressão multinomial p/ classificar nas 10 classes do CIFAR10."
      ]
    },
    {
      "cell_type": "code",
      "metadata": {},
      "source": [
        "input = keras.layers.Input(shape=(32, 32, 3))\n",
        "out = keras.layers.Rescaling(1 / 255.0)(input)\n",
        "out = keras.layers.Resizing(224, 224)(out)\n",
        "out = hub.KerasLayer(\n",
        "    handle=\"https://tfhub.dev/google/imagenet/mobilenet_v1_100_224/feature_vector/5\",\n",
        "    trainable=False,\n",
        ")(out)\n",
        "out = keras.layers.Dropout(rate=0.2)(out)\n",
        "out = keras.layers.Dense(units=10, activation=\"softmax\")(out)"
      ],
      "execution_count": null,
      "outputs": []
    },
    {
      "cell_type": "markdown",
      "metadata": {},
      "source": [
        "Veja que a camada do TFHUB possui todos os pesos do MobileNet."
      ]
    },
    {
      "cell_type": "code",
      "metadata": {},
      "source": [
        "#| layout-ncol: 1\n",
        "#| column: screen-right\n",
        "model = keras.Model(inputs=input, outputs=out)\n",
        "model.summary()"
      ],
      "execution_count": null,
      "outputs": []
    },
    {
      "cell_type": "markdown",
      "metadata": {},
      "source": [
        "Agora podemos compilar o modelo:"
      ]
    },
    {
      "cell_type": "code",
      "metadata": {},
      "source": [
        "model.compile(\n",
        "    optimizer=\"adam\",\n",
        "    loss=keras.losses.SparseCategoricalCrossentropy(from_logits=False),\n",
        "    metrics=[\"accuracy\"],\n",
        ")"
      ],
      "execution_count": null,
      "outputs": []
    },
    {
      "cell_type": "markdown",
      "metadata": {},
      "source": [
        "Estamos usando a mesma loss que usamos no [exemplo anterior](./07-conv-mnist.html).\n",
        "Agora vamos ajustar o modelo. É esperado termos um acerto bem maior do que se tivéssemos ajustado um modelo do zero, pois o modelo pré treinado foi ajustado\n",
        "em banco de dados muito maiores e por isso tem bastante informação p/ agregar."
      ]
    },
    {
      "cell_type": "code",
      "metadata": {},
      "source": [
        "#| layout-ncol: 1\n",
        "#| column: screen-right\n",
        "hist = model.fit(x_train, y_train, epochs=5, validation_split=0.2, verbose=2)"
      ],
      "execution_count": null,
      "outputs": []
    }
  ],
  "metadata": {
    "kernelspec": {
      "name": "python3",
      "language": "python",
      "display_name": "Python 3 (ipykernel)"
    }
  },
  "nbformat": 4,
  "nbformat_minor": 4
}