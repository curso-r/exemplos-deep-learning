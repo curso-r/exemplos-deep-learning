{
  "cells": [
    {
      "cell_type": "raw",
      "metadata": {},
      "source": [
        "---\n",
        "title: Pré-processamento\n",
        "---"
      ]
    },
    {
      "cell_type": "markdown",
      "metadata": {},
      "source": [
        "Nesse exemplo fazemos o primeiro passo do pré-processamento para modelos de texto\n",
        "em deep leanring que é transformar cada texto em uma sequência de palavras em \n",
        "uma sequência de números inteiros.\n",
        "\n",
        "Para isso, usamos a camada `TextVectorization`. Note que dsta camada é um pouco\n",
        "diferente das demais, pois, precisamos 'adaptá-la' antes de usar.\n",
        "\n",
        "O parâmetro `max_tokens` diz o número máximo de palavras que a camada vai guardar\n",
        "no seu vocabulário. Isso é usado quando não queremos que palavras que aparecem\n",
        "muito pouco tenham um número inteiro atribuido.\n",
        "\n",
        "O `output_mode='int'` indica que queremos transformar cada palavra em um número inteiro.\n",
        "Existem outras formas de vetorizar (por exemplo tf-idf) mas não vamos usá-las em\n",
        "deep learning."
      ]
    },
    {
      "cell_type": "code",
      "metadata": {},
      "source": [
        "from tensorflow import keras\n",
        "layer = keras.layers.TextVectorization(max_tokens=10, output_mode=\"int\",)"
      ],
      "execution_count": null,
      "outputs": []
    },
    {
      "cell_type": "markdown",
      "metadata": {},
      "source": [
        "Agora vamos adaptar a camada para um conjunto de frases:"
      ]
    },
    {
      "cell_type": "code",
      "metadata": {},
      "source": [
        "frases = [\n",
        "    \"eu gosto de gatos\",\n",
        "    \"eu gosto de cachorros\",\n",
        "    \"eu gosto de gatos e cachorros\",\n",
        "]\n",
        "\n",
        "layer.adapt(frases)"
      ],
      "execution_count": null,
      "outputs": []
    },
    {
      "cell_type": "markdown",
      "metadata": {},
      "source": [
        "Então podemos usá-la:"
      ]
    },
    {
      "cell_type": "code",
      "metadata": {},
      "source": [
        "layer(frases)"
      ],
      "execution_count": null,
      "outputs": []
    },
    {
      "cell_type": "markdown",
      "metadata": {},
      "source": [
        "E obter o vocabulário:"
      ]
    },
    {
      "cell_type": "code",
      "metadata": {},
      "source": [
        "vocab = layer.get_vocabulary()\n",
        "print(vocab)"
      ],
      "execution_count": null,
      "outputs": []
    },
    {
      "cell_type": "markdown",
      "metadata": {},
      "source": [
        "Note que no vocabulário, sempre temos que o primeiro ítem é `''` e o segundo é\n",
        "`<UNK>`. Esses tokens servem para padding e para palavras desconhecidas pela camada\n",
        "de vetorização respectivamente.\n",
        "\n",
        "Por exemplo, se fizermos:"
      ]
    },
    {
      "cell_type": "code",
      "metadata": {},
      "source": [
        "layer(\"eu gosto de tubarão\")"
      ],
      "execution_count": null,
      "outputs": []
    },
    {
      "cell_type": "markdown",
      "metadata": {},
      "source": [
        "Veja que a palavra 'tubarao' foi substituida pelo inteiro representado o `<UNK>` pois\n",
        "essa palavra não aparecia quando adaptamos a camada.\n"
      ]
    }
  ],
  "metadata": {
    "kernelspec": {
      "name": "python3",
      "language": "python",
      "display_name": "Python 3 (ipykernel)"
    }
  },
  "nbformat": 4,
  "nbformat_minor": 4
}