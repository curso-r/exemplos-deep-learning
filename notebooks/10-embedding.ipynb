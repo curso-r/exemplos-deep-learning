{
  "cells": [
    {
      "cell_type": "raw",
      "metadata": {},
      "source": [
        "---\n",
        "title: Word embeddings\n",
        "---"
      ]
    },
    {
      "cell_type": "markdown",
      "metadata": {},
      "source": [
        "Nesse exemplo vamos mostrar como usar a camada de embeddings. Antes de usá-la\n",
        "precisamos transformar cada texto em uma sequência de inteiros, como vimos\n",
        "no [exemplo anterior](./09-text-vectorization.html).\n",
        "\n",
        "Para isso, usamos a camada `TextVectorization`. Note que dsta camada é um pouco\n",
        "diferente das demais, pois, precisamos 'adaptá-la' antes de usar.\n",
        "\n",
        "O parâmetro `max_tokens` diz o número máximo de palavras que a camada vai guardar\n",
        "no seu vocabulário. Isso é usado quando não queremos que palavras que aparecem\n",
        "muito pouco tenham um número inteiro atribuido.\n",
        "\n",
        "O `output_mode='int'` indica que queremos transformar cada palavra em um número inteiro.\n",
        "Existem outras formas de vetorizar (por exemplo tf-idf) mas não vamos usá-las em\n",
        "deep learning."
      ]
    },
    {
      "cell_type": "code",
      "metadata": {},
      "source": [
        "from tensorflow import keras\n",
        "layer = keras.layers.TextVectorization(max_tokens=10, output_mode=\"int\",)"
      ],
      "execution_count": null,
      "outputs": []
    },
    {
      "cell_type": "markdown",
      "metadata": {},
      "source": [
        "Agora vamos adaptar a camada para um conjunto de frases:"
      ]
    },
    {
      "cell_type": "code",
      "metadata": {},
      "source": [
        "frases = [\n",
        "    \"eu gosto de gatos\",\n",
        "    \"eu gosto de cachorros\",\n",
        "    \"eu gosto de gatos e cachorros\",\n",
        "]\n",
        "\n",
        "layer.adapt(frases)\n",
        "vocab = layer.get_vocabulary()"
      ],
      "execution_count": null,
      "outputs": []
    },
    {
      "cell_type": "markdown",
      "metadata": {},
      "source": [
        "Agora podemos definir um input, passar a camada de vetorização e em seguida definir a\n",
        "camada de embeddings.\n",
        "O parâmetro `input_dim` da camada `Embedding` indica o número de tokens possíveis.\n",
        "No nosso caso, esse número é o tamanho do vocabulário.\n",
        "A camada de embedding faz cada palavra ser representada por um vetorizinho. O parâmetro\n",
        "`output_dim` indica o tamanho desse vetor. No exemplo, cada palavra será representada\n",
        "por um vetor de tamanho 2."
      ]
    },
    {
      "cell_type": "code",
      "metadata": {},
      "source": [
        "input = keras.layers.Input(shape=(), dtype=\"string\")\n",
        "vec = layer(input)\n",
        "output = keras.layers.Embedding(input_dim=len(vocab), output_dim=2)(vec)"
      ],
      "execution_count": null,
      "outputs": []
    },
    {
      "cell_type": "markdown",
      "metadata": {},
      "source": [
        "Agora podemos criar um modelo:"
      ]
    },
    {
      "cell_type": "code",
      "metadata": {},
      "source": [
        "model = keras.Model(inputs=input, outputs=output)\n",
        "model.summary()"
      ],
      "execution_count": null,
      "outputs": []
    },
    {
      "cell_type": "markdown",
      "metadata": {},
      "source": [
        "A camada de embeddings possui `len(vocab)*2` parâmetros. Isto é, 2 parâmetros\n",
        "para cada palavra do vocabulário.\n",
        "\n",
        "Agora vamos ver como uma frase fica representada pela camada de embeddings:"
      ]
    },
    {
      "cell_type": "code",
      "metadata": {},
      "source": [
        "model.predict(frases)[0]"
      ],
      "execution_count": null,
      "outputs": []
    },
    {
      "cell_type": "markdown",
      "metadata": {},
      "source": [
        "Também podemos observar a matriz de embeddings:"
      ]
    },
    {
      "cell_type": "code",
      "metadata": {},
      "source": [
        "model.get_weights()[1]"
      ],
      "execution_count": null,
      "outputs": []
    },
    {
      "cell_type": "markdown",
      "metadata": {},
      "source": [
        "Cada linha aqui é um vetor que representa uma palavra do vocabulário. A order é a mesma\n",
        "que aparece em `vocab`:"
      ]
    },
    {
      "cell_type": "code",
      "metadata": {},
      "source": [
        "print(vocab)"
      ],
      "execution_count": null,
      "outputs": []
    }
  ],
  "metadata": {
    "kernelspec": {
      "name": "python3",
      "language": "python",
      "display_name": "Python 3 (ipykernel)"
    }
  },
  "nbformat": 4,
  "nbformat_minor": 4
}