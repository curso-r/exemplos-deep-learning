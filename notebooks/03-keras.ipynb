{
  "cells": [
    {
      "cell_type": "raw",
      "metadata": {},
      "source": [
        "---\n",
        "title: Keras\n",
        "---"
      ]
    },
    {
      "cell_type": "markdown",
      "metadata": {},
      "source": [
        "Vamos ajustar um modelo exatamente igual ao que fizemos nos [exemplos 1](./01-linear-regression.html) e [2](./02-sgd.html) mas dessa vez usando o Keras.\n",
        "\n",
        ":::{.callout-note}\n",
        "O Keras é uma biblioteca que faz parte do TensorFlow e possui uma sintaxe concisa\n",
        "para definir modelos de deep learning. O TensorFlow além de ser rápido e possuir\n",
        "implementações para GPU's, possui uma feature chamada *automatic differentiation*\n",
        "que calcular as derivadas automaticamente.\n",
        ":::\n",
        "\n",
        "Os dados estão sendo gerados da mesma forma que no [exemplo 1](./01-linear-regression.html)."
      ]
    },
    {
      "cell_type": "code",
      "metadata": {},
      "source": [
        "import numpy as np\n",
        "\n",
        "# Data generation ----------------------------------------------\n",
        "\n",
        "n = 1000\n",
        "x = np.random.uniform(size=(n,))\n",
        "\n",
        "W = 0.9\n",
        "b = 0.1\n",
        "\n",
        "y = W * x + b"
      ],
      "execution_count": null,
      "outputs": []
    },
    {
      "cell_type": "markdown",
      "metadata": {},
      "source": [
        "Vamos importar o Keras."
      ]
    },
    {
      "cell_type": "code",
      "metadata": {},
      "source": [
        "from tensorflow import keras"
      ],
      "execution_count": null,
      "outputs": []
    },
    {
      "cell_type": "markdown",
      "metadata": {},
      "source": [
        "Agora vamos definir o modelo no Keras usando a API funcional:\n",
        "Para definir modelos usando essa API fazemos:\n",
        "\n",
        "1. Definimos o formato do nosso `input` usando a camada `keras.layers.Input`. Nesse\n",
        "passo omitimos o número de observações. O `(1,)` nesse exemplo significa que o nosso\n",
        "input é uma matriz com `1` coluna.\n",
        "\n",
        "2. Definimos as transformações que vamos fazer no nosso input. Nesse caso usamos\n",
        "a camada `keras.layers.Dense` que faz a transformação linear `W*x+ b`.\n",
        "\n",
        "3. Por fim definimos um modelo do Keras especificando um `input` e um `output`."
      ]
    },
    {
      "cell_type": "code",
      "metadata": {},
      "source": [
        "input = keras.layers.Input(shape=(1,))\n",
        "output = keras.layers.Dense(units=1, use_bias=True)(input)\n",
        "model = keras.Model(inputs=input, outputs=output)"
      ],
      "execution_count": null,
      "outputs": []
    },
    {
      "cell_type": "markdown",
      "metadata": {},
      "source": [
        "Esse modelo possui 2 parâmetros: `w` e `b`. "
      ]
    },
    {
      "cell_type": "code",
      "metadata": {},
      "source": [
        "model.summary()"
      ],
      "execution_count": null,
      "outputs": []
    },
    {
      "cell_type": "markdown",
      "metadata": {},
      "source": [
        "Em seguida compilamos o modelo falando qual é a função de perda que queremos minimizar e\n",
        "qual o método de otimização."
      ]
    },
    {
      "cell_type": "code",
      "metadata": {},
      "source": [
        "model.compile(\n",
        "    loss=keras.losses.mean_squared_error,\n",
        "    optimizer=keras.optimizers.SGD(learning_rate=0.01),\n",
        ")"
      ],
      "execution_count": null,
      "outputs": []
    },
    {
      "cell_type": "markdown",
      "metadata": {},
      "source": [
        "Podemos então ajustar o modelo passando para o método `fit` os dados de `input` e\n",
        "`output`. Também especificamos um `batch_size=1` (para ficar igual ao SGD teórico)\n",
        "e o número de `epochs`. Só estamos usando `verbose=2` para a barra de prorgresso não\n",
        "aparecer neste site, você pode ignorar esse parâmetro."
      ]
    },
    {
      "cell_type": "code",
      "metadata": {},
      "source": [
        "history = model.fit(x=x, y=y, batch_size=1, epochs=5, verbose=2)"
      ],
      "execution_count": null,
      "outputs": []
    },
    {
      "cell_type": "markdown",
      "metadata": {},
      "source": [
        "Podemos em seguida visualizar o valor da função de perda ao longo do número de épocas:"
      ]
    },
    {
      "cell_type": "code",
      "metadata": {},
      "source": [
        "import seaborn as sns\n",
        "sns.lineplot(x=range(5), y=history.history[\"loss\"])"
      ],
      "execution_count": null,
      "outputs": []
    },
    {
      "cell_type": "markdown",
      "metadata": {},
      "source": [
        "Visualização do grafo do modelo:"
      ]
    },
    {
      "cell_type": "code",
      "metadata": {},
      "source": [
        "keras.utils.plot_model(model, show_shapes=True)"
      ],
      "execution_count": null,
      "outputs": []
    },
    {
      "cell_type": "markdown",
      "metadata": {},
      "source": [
        "Verificar que os pesos obtidos são o mesmo que usamos apra simular os dados:"
      ]
    },
    {
      "cell_type": "code",
      "metadata": {},
      "source": [
        "model.get_weights()"
      ],
      "execution_count": null,
      "outputs": []
    },
    {
      "cell_type": "markdown",
      "metadata": {},
      "source": [
        "Fazer previsões com o modelo ajustado:"
      ]
    },
    {
      "cell_type": "code",
      "metadata": {},
      "source": [
        "model.predict(x)[0:5]"
      ],
      "execution_count": null,
      "outputs": []
    }
  ],
  "metadata": {
    "kernelspec": {
      "name": "python3",
      "language": "python",
      "display_name": "Python 3 (ipykernel)"
    }
  },
  "nbformat": 4,
  "nbformat_minor": 4
}