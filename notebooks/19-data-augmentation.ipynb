{
  "cells": [
    {
      "cell_type": "raw",
      "metadata": {},
      "source": [
        "---\n",
        "title: Data augmentation\n",
        "---"
      ]
    },
    {
      "cell_type": "markdown",
      "metadata": {},
      "source": [
        "Nesse exemplo vamos mostrar o que é e para que serve técnicas de data augmentation.\n",
        "Vamos mostrar no contexto de imagens, mas essa idéia pode valer para diversas \n",
        "outras aplicações."
      ]
    },
    {
      "cell_type": "code",
      "metadata": {},
      "source": [
        "from tensorflow import keras\n",
        "import matplotlib.pyplot as plt"
      ],
      "execution_count": null,
      "outputs": []
    },
    {
      "cell_type": "markdown",
      "metadata": {},
      "source": [
        "Vamos usar o banco de dados do CIFAR10:"
      ]
    },
    {
      "cell_type": "code",
      "metadata": {},
      "source": [
        "(x_train, y_train), (x_test, y_test) = keras.datasets.cifar10.load_data()"
      ],
      "execution_count": null,
      "outputs": []
    },
    {
      "cell_type": "markdown",
      "metadata": {},
      "source": [
        "Data augmentation consiste em usar heurísticas para modificar os dados de uma forma\n",
        "que poderia acontecer na vida real. Em imagens é muito comum mudar um pouco o brilho,\n",
        "fazer um pouquinho de zoom ou rotacionar um pouco a imagem."
      ]
    },
    {
      "cell_type": "code",
      "metadata": {},
      "source": [
        "data_augmentation = keras.Sequential([\n",
        "  keras.layers.RandomFlip(\"horizontal\"),\n",
        "  keras.layers.RandomRotation(0.2)\n",
        "])"
      ],
      "execution_count": null,
      "outputs": []
    },
    {
      "cell_type": "markdown",
      "metadata": {},
      "source": [
        "Vamos ver o que acontece com as imagens depois dessa transformação:"
      ]
    },
    {
      "cell_type": "code",
      "metadata": {},
      "source": [
        "#| column: screen-right\n",
        "#| layout-ncol: 2\n",
        "plt.imshow(x_train[0])\n",
        "plt.show()\n",
        "plt.imshow(data_augmentation(x_train[0:1]).numpy()[0].astype(\"uint8\"))\n",
        "plt.show()"
      ],
      "execution_count": null,
      "outputs": []
    },
    {
      "cell_type": "markdown",
      "metadata": {},
      "source": [
        "Fazer essas transformações pode melhorar bastante o acerto do modelo além de \n",
        "ajusar na generalização. É como se estivéssemos fornecendo um banco de dados\n",
        "bem maior do que o que possuimos.\n",
        "\n",
        "Agora podemos definir um modelo que usa essas transformações, ajustar e treinar.\n"
      ]
    },
    {
      "cell_type": "code",
      "metadata": {},
      "source": [
        "class Modelo(keras.Model):\n",
        "  def __init__(self):\n",
        "    super(Modelo, self).__init__()\n",
        "    self.data_augmentation = keras.Sequential([\n",
        "      keras.layers.RandomFlip(\"horizontal\"),\n",
        "      keras.layers.RandomRotation(0.2)\n",
        "    ])\n",
        "    self.encoder = keras.Sequential([\n",
        "      keras.layers.Conv2D(filters=64, kernel_size=(3,3), activation=\"relu\", padding=\"same\"),\n",
        "      keras.layers.MaxPool2D(pool_size=(2,2)),\n",
        "      keras.layers.Conv2D(filters=64, kernel_size=(3,3), activation=\"relu\", padding=\"same\"),\n",
        "      keras.layers.MaxPool2D(pool_size=(2,2)),\n",
        "      keras.layers.Conv2D(filters=64, kernel_size=(3,3), activation=\"relu\", padding=\"same\"),\n",
        "      keras.layers.MaxPool2D(pool_size=(2,2)),\n",
        "      keras.layers.Flatten()\n",
        "    ])\n",
        "    self.classifier = keras.Sequential([\n",
        "      keras.layers.Dense(128, activation=\"relu\"),\n",
        "      keras.layers.Dense(10, activation=\"softmax\")\n",
        "    ])\n",
        "  def call(self, x):\n",
        "    out = self.data_augmentation(x)\n",
        "    out = self.encoder(out)\n",
        "    return self.classifier(out)"
      ],
      "execution_count": null,
      "outputs": []
    },
    {
      "cell_type": "markdown",
      "metadata": {},
      "source": [
        "Para compilar usamos:"
      ]
    },
    {
      "cell_type": "code",
      "metadata": {},
      "source": [
        "model = Modelo()\n",
        "model.compile(\n",
        "  loss = keras.losses.SparseCategoricalCrossentropy(from_logits=False),\n",
        "  optimizer = \"adam\",\n",
        "  metrics = [\"accuracy\"]\n",
        ")"
      ],
      "execution_count": null,
      "outputs": []
    },
    {
      "cell_type": "markdown",
      "metadata": {},
      "source": [
        "E ajustamos com:"
      ]
    },
    {
      "cell_type": "code",
      "metadata": {},
      "source": [
        "model.fit(x_train, y_train, validation_data=(x_test, y_test), epochs=5, verbose=2)"
      ],
      "execution_count": null,
      "outputs": []
    }
  ],
  "metadata": {
    "kernelspec": {
      "name": "python3",
      "language": "python",
      "display_name": "Python 3 (ipykernel)"
    }
  },
  "nbformat": 4,
  "nbformat_minor": 4
}