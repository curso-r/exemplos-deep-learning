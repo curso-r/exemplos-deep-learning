{
  "cells": [
    {
      "cell_type": "raw",
      "metadata": {},
      "source": [
        "---\n",
        "title: KerasTuner\n",
        "---"
      ]
    },
    {
      "cell_type": "markdown",
      "metadata": {},
      "source": [
        "Nesse exemplo vamos usar o KerasTuner para encontrar melhores hiperparâmetros para um modelo."
      ]
    },
    {
      "cell_type": "code",
      "metadata": {},
      "source": [
        "from tensorflow import keras\n",
        "import keras_tuner\n",
        "import matplotlib.pyplot as pltX"
      ],
      "execution_count": null,
      "outputs": []
    },
    {
      "cell_type": "markdown",
      "metadata": {},
      "source": [
        "Vamos tentar encontrar qual o tamanho das convoluções que dá o melhor resultado para\n",
        "a base do CIFAR10."
      ]
    },
    {
      "cell_type": "code",
      "metadata": {},
      "source": [
        "(x, y), (x_test, y_test) = keras.datasets.cifar10.load_data()"
      ],
      "execution_count": null,
      "outputs": []
    },
    {
      "cell_type": "markdown",
      "metadata": {},
      "source": [
        "Criando a classe para fazer o modelo, assim como no exemplo 19."
      ]
    },
    {
      "cell_type": "code",
      "metadata": {},
      "source": [
        "class Modelo(keras.Model):\n",
        "  def __init__(self, filters):\n",
        "    super(Modelo, self).__init__()\n",
        "    self.encoder = keras.Sequential([\n",
        "      keras.layers.Rescaling(1./255),\n",
        "      keras.layers.Conv2D(filters=filters, kernel_size=(3,3), activation=\"relu\", padding=\"same\"),\n",
        "      keras.layers.MaxPool2D(pool_size=(2,2)),\n",
        "      keras.layers.Conv2D(filters=filters, kernel_size=(3,3), activation=\"relu\", padding=\"same\"),\n",
        "      keras.layers.MaxPool2D(pool_size=(2,2)),\n",
        "      keras.layers.Conv2D(filters=filters, kernel_size=(3,3), activation=\"relu\", padding=\"same\"),\n",
        "      keras.layers.MaxPool2D(pool_size=(2,2)),\n",
        "      keras.layers.Flatten()\n",
        "    ])\n",
        "    self.classifier = keras.Sequential([\n",
        "      keras.layers.Dense(128, activation=\"relu\"),\n",
        "      keras.layers.Dense(10, activation=\"softmax\")\n",
        "    ])\n",
        "  def call(self, x):\n",
        "    out = self.encoder(x)\n",
        "    return self.classifier(out)"
      ],
      "execution_count": null,
      "outputs": []
    },
    {
      "cell_type": "markdown",
      "metadata": {},
      "source": [
        "Agora vamos definir uma função que inicializa o modelo:"
      ]
    },
    {
      "cell_type": "code",
      "metadata": {},
      "source": [
        "def build_model(hp):\n",
        "  model = Modelo(\n",
        "    filters=hp.Int(\"filters\", min_value=8, max_value=32, step=4)\n",
        "  )\n",
        "  model.compile(\n",
        "    loss = keras.losses.SparseCategoricalCrossentropy(from_logits=False),\n",
        "    optimizer = \"adam\",\n",
        "    metrics = [\"accuracy\"]\n",
        "  )\n",
        "  return model"
      ],
      "execution_count": null,
      "outputs": []
    },
    {
      "cell_type": "markdown",
      "metadata": {},
      "source": [
        "Agora vamos criar um objeto que controla a tunagem do modelo:"
      ]
    },
    {
      "cell_type": "code",
      "metadata": {},
      "source": [
        "tuner = keras_tuner.RandomSearch(\n",
        "    hypermodel=build_model,\n",
        "    objective=\"val_accuracy\",\n",
        "    max_trials=3,\n",
        "    overwrite=True,\n",
        "    directory=\"tuning\",\n",
        "    project_name=\"cifar10\",\n",
        ")\n",
        "tuner.search_space_summary()"
      ],
      "execution_count": null,
      "outputs": []
    },
    {
      "cell_type": "markdown",
      "metadata": {},
      "source": [
        "E por fim, podemos iniciar a tunagem:"
      ]
    },
    {
      "cell_type": "code",
      "metadata": {},
      "source": [
        "x_train = x[:-10000]\n",
        "x_val = x[-10000:]\n",
        "y_train = y[:-10000]\n",
        "y_val = y[-10000:]\n",
        "tuner.search(x_train, y_train, epochs=2, validation_data=(x_val, y_val), verbose=2)"
      ],
      "execution_count": null,
      "outputs": []
    },
    {
      "cell_type": "markdown",
      "metadata": {},
      "source": [
        "Agora vemos a lista de modelos que ficaram melhor:"
      ]
    },
    {
      "cell_type": "code",
      "metadata": {},
      "source": [
        "tuner.results_summary(num_trials=3)"
      ],
      "execution_count": null,
      "outputs": []
    },
    {
      "cell_type": "markdown",
      "metadata": {},
      "source": [
        "No fim, podemos ajustar o modelo final:"
      ]
    },
    {
      "cell_type": "code",
      "metadata": {},
      "source": [
        "best_hps = tuner.get_best_hyperparameters(3)\n",
        "model = build_model(best_hps[0])\n",
        "model.fit(x=x, y=y, epochs=2, verbose=2)"
      ],
      "execution_count": null,
      "outputs": []
    },
    {
      "cell_type": "markdown",
      "metadata": {},
      "source": [
        "E avaliar o resultado na base de teste:"
      ]
    },
    {
      "cell_type": "code",
      "metadata": {},
      "source": [
        "model.evaluate(x_test, y_test, verbose=2)"
      ],
      "execution_count": null,
      "outputs": []
    }
  ],
  "metadata": {
    "kernelspec": {
      "name": "python3",
      "language": "python",
      "display_name": "Python 3 (ipykernel)"
    }
  },
  "nbformat": 4,
  "nbformat_minor": 4
}