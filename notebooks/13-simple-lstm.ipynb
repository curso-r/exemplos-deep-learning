{
  "cells": [
    {
      "cell_type": "raw",
      "metadata": {},
      "source": [
        "---\n",
        "title: LSTM's\n",
        "---"
      ]
    },
    {
      "cell_type": "markdown",
      "metadata": {},
      "source": [
        "Neste exemplo, vamos demonstrar as contas como são feitas para a LSTM, ao invés de RNN's como fizemos no [exemplo anterior](./12-simple-rnn.qmd).\n"
      ]
    },
    {
      "cell_type": "code",
      "metadata": {},
      "source": [
        "import numpy as np\n",
        "from tensorflow import keras"
      ],
      "execution_count": null,
      "outputs": []
    },
    {
      "cell_type": "markdown",
      "metadata": {},
      "source": [
        "Primeiro, vamos gerar os dados novamente:"
      ]
    },
    {
      "cell_type": "code",
      "metadata": {},
      "source": [
        "n = 10000\n",
        "l = 10\n",
        "\n",
        "cresc = np.random.randint(0, 2, size=(n,))\n",
        "x = np.empty((n, l), dtype=np.float32)\n",
        "for i, cr in enumerate(cresc):\n",
        "    tmp = np.random.uniform(size=(l,))\n",
        "    if cr == 1:\n",
        "        x[i, :] = tmp[np.argsort(tmp)]\n",
        "    else:\n",
        "        x[i, :] = tmp[np.argsort(-tmp)]\n",
        "x = x.reshape((n, l, 1))"
      ],
      "execution_count": null,
      "outputs": []
    },
    {
      "cell_type": "markdown",
      "metadata": {},
      "source": [
        "Agora vamos definir o modelo no Keras. Não vamos nos preocupar com os\n",
        "parâmetros nem nada ainda. A seguir vamos mostrar exatamente as contas que o Keras está fazendo por trás."
      ]
    },
    {
      "cell_type": "code",
      "metadata": {},
      "source": [
        "input = keras.layers.Input(shape=(l, 1))\n",
        "output = keras.layers.LSTM(units=1, activation=\"tanh\", use_bias=False, recurrent_activation=\"sigmoid\")(input)\n",
        "output = keras.layers.Activation(\"sigmoid\")(output)\n",
        "model = keras.Model(inputs=input, outputs=output)\n",
        "\n",
        "model.compile(loss=\"binary_crossentropy\", optimizer=keras.optimizers.Adam(learning_rate=0.01), metrics=\"accuracy\")"
      ],
      "execution_count": null,
      "outputs": []
    },
    {
      "cell_type": "markdown",
      "metadata": {},
      "source": [
        "Agora ajustamos o modelo:"
      ]
    },
    {
      "cell_type": "code",
      "metadata": {},
      "source": [
        "#| layout-ncol: 1\n",
        "#| column: screen-right\n",
        "model.fit(x=x, y=cresc, epochs=10, batch_size=32, verbose=2)"
      ],
      "execution_count": null,
      "outputs": []
    },
    {
      "cell_type": "markdown",
      "metadata": {},
      "source": [
        "Agora vamos ver a conta linha por linha que é feita pelo Keras para cada\n",
        "observação. Definimos as funções que vamos usar:"
      ]
    },
    {
      "cell_type": "code",
      "metadata": {},
      "source": [
        "def sigmoid(x):\n",
        "    return 1 / (1 + np.exp(-x))"
      ],
      "execution_count": null,
      "outputs": []
    },
    {
      "cell_type": "markdown",
      "metadata": {},
      "source": [
        "Selecionamos uma observação:"
      ]
    },
    {
      "cell_type": "code",
      "metadata": {},
      "source": [
        "x_ = x[0]"
      ],
      "execution_count": null,
      "outputs": []
    },
    {
      "cell_type": "markdown",
      "metadata": {},
      "source": [
        "Obtemos os pesos estimados pelo Keras:"
      ]
    },
    {
      "cell_type": "code",
      "metadata": {},
      "source": [
        "w = model.get_weights()"
      ],
      "execution_count": null,
      "outputs": []
    },
    {
      "cell_type": "markdown",
      "metadata": {},
      "source": [
        "Inicializamos os estados `s` e `c` e dentro do loop escrevemos a regra de atualização dos estados:"
      ]
    },
    {
      "cell_type": "code",
      "metadata": {},
      "source": [
        "s = 0\n",
        "c = 0\n",
        "\n",
        "\n",
        "for t in range(l):\n",
        "    f = sigmoid(w[1][0, 1] * s + w[0][0, 1] * x_[t])\n",
        "    i = sigmoid(w[1][0, 0] * s + w[0][0, 0] * x_[t])\n",
        "    c_hat = np.tanh(w[1][0, 2] * s + w[0][0, 2] * x_[t])\n",
        "    c = f * c + i * c_hat\n",
        "    o = sigmoid(s * w[1][0, 3] + w[0][0, 3] * x_[t])\n",
        "    s = o * np.tanh(c)"
      ],
      "execution_count": null,
      "outputs": []
    },
    {
      "cell_type": "markdown",
      "metadata": {},
      "source": [
        "Emfim, aplicamos o sigmoid no estado final:"
      ]
    },
    {
      "cell_type": "code",
      "metadata": {},
      "source": [
        "sigmoid(s)"
      ],
      "execution_count": null,
      "outputs": []
    },
    {
      "cell_type": "markdown",
      "metadata": {},
      "source": [
        "O valor predito pelo keras para essa observação seria:"
      ]
    },
    {
      "cell_type": "code",
      "metadata": {},
      "source": [
        "model.predict(x)[0]"
      ],
      "execution_count": null,
      "outputs": []
    }
  ],
  "metadata": {
    "kernelspec": {
      "name": "python3",
      "language": "python",
      "display_name": "Python 3 (ipykernel)"
    }
  },
  "nbformat": 4,
  "nbformat_minor": 4
}