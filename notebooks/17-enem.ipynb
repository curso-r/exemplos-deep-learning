{
  "cells": [
    {
      "cell_type": "raw",
      "metadata": {},
      "source": [
        "---\n",
        "title: Enem\n",
        "execute:\n",
        "  eval: false\n",
        "---"
      ]
    },
    {
      "cell_type": "markdown",
      "metadata": {},
      "source": [
        "Nesse exemplo vamos fazer um modelo para classificar as perguntas do ENEM eu seus respectivos temas."
      ]
    },
    {
      "cell_type": "code",
      "metadata": {},
      "source": [
        "#| eval: true\n",
        "import pandas as pd\n",
        "from tensorflow import keras"
      ],
      "execution_count": null,
      "outputs": []
    },
    {
      "cell_type": "markdown",
      "metadata": {},
      "source": [
        "Carregando os dados:"
      ]
    },
    {
      "cell_type": "code",
      "metadata": {},
      "source": [
        "#| eval: true\n",
        "df = pd.read_csv(\"https://storage.googleapis.com/deep-learning-com-r/banco_de_questoes.csv\",encoding = 'latin2', sep = \";\")\n",
        "df"
      ],
      "execution_count": null,
      "outputs": []
    },
    {
      "cell_type": "markdown",
      "metadata": {},
      "source": [
        "Vamos separar a resposta e dados de treino"
      ]
    },
    {
      "cell_type": "code",
      "metadata": {},
      "source": [
        "#| eval: true\n",
        "df.grande_tema.value_counts()\n",
        "y = df.grande_tema.astype('category').cat.codes.astype(\"int32\").to_numpy()\n",
        "x = df.enunciados.astype(\"str\").to_numpy()"
      ],
      "execution_count": null,
      "outputs": []
    },
    {
      "cell_type": "markdown",
      "metadata": {},
      "source": [
        "Agora vamos criar a camada de vetorização:"
      ]
    },
    {
      "cell_type": "code",
      "metadata": {},
      "source": [
        "#| eval: true\n",
        "vectorize = keras.layers.TextVectorization(\n",
        "  max_tokens = 10000,\n",
        "  pad_to_max_tokens=True\n",
        ")\n",
        "vectorize.adapt(x)\n",
        "vocab = vectorize.get_vocabulary()"
      ],
      "execution_count": null,
      "outputs": []
    },
    {
      "cell_type": "markdown",
      "metadata": {},
      "source": [
        "Então podemos definir o modelo"
      ]
    },
    {
      "cell_type": "code",
      "metadata": {},
      "source": [
        "#| eval: true\n",
        "input = keras.layers.Input(shape=(), dtype=\"string\")\n",
        "output = vectorize(input)\n",
        "output = keras.layers.Embedding(input_dim=len(vocab), output_dim=256)(output)\n",
        "output = keras.layers.LSTM(units=256)(output)\n",
        "output = keras.layers.Dense(units=256, activation=\"relu\")(output)\n",
        "output = keras.layers.Dense(units=y.max() + 1, activation=\"softmax\")(output)"
      ],
      "execution_count": null,
      "outputs": []
    },
    {
      "cell_type": "markdown",
      "metadata": {},
      "source": [
        "Compilar e ajustar"
      ]
    },
    {
      "cell_type": "code",
      "metadata": {},
      "source": [
        "#| eval: true\n",
        "model = keras.Model(inputs=input, outputs=output)\n",
        "auc = keras.metrics.AUC(curve=\"ROC\")\n",
        "model.compile(loss=\"categorical_crossentropy\", optimizer=\"adam\", metrics=[auc, \"accuracy\"])\n",
        "model.summary()"
      ],
      "execution_count": null,
      "outputs": []
    },
    {
      "cell_type": "code",
      "metadata": {},
      "source": [
        "#| eval: true\n",
        "#| layout-ncol: 1\n",
        "#| column: screen-right\n",
        "model.fit(\n",
        "  x=x, \n",
        "  y=keras.utils.to_categorical(y),\n",
        "  epochs = 1,\n",
        "  verbose = 2\n",
        ")"
      ],
      "execution_count": null,
      "outputs": []
    }
  ],
  "metadata": {
    "kernelspec": {
      "name": "python3",
      "language": "python",
      "display_name": "Python 3 (ipykernel)"
    }
  },
  "nbformat": 4,
  "nbformat_minor": 4
}