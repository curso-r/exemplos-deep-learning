{
  "cells": [
    {
      "cell_type": "raw",
      "metadata": {},
      "source": [
        "---\n",
        "title: Multi-Layer Perceptron\n",
        "---"
      ]
    },
    {
      "cell_type": "markdown",
      "metadata": {},
      "source": [
        "Nesse exemplos ajustamos um multi-layer perceptron para dados simulados.\n",
        "A diferença para o que fizemos nos exemplos anteriores, é que fica mais fácil\n",
        "usar a notação matricial especificar as contas.\n",
        "\n",
        "O Keras já usa a notação matricial, por isso, podemos ver que o código no Keras\n",
        "muda bem pouco."
      ]
    },
    {
      "cell_type": "code",
      "metadata": {},
      "source": [
        "import numpy as np\n",
        "from tensorflow import keras"
      ],
      "execution_count": null,
      "outputs": []
    },
    {
      "cell_type": "markdown",
      "metadata": {},
      "source": [
        "Veja que nesse exemplo a geração dos dados é um pouco mais complicada. Usamos\n",
        "a mesma idéia do MLP."
      ]
    },
    {
      "cell_type": "code",
      "metadata": {},
      "source": [
        "n = 1000\n",
        "\n",
        "# uma matriz com `n` observações e 2 colunas. \n",
        "# valores aleatórios obtidos da distribuição uniforme.\n",
        "X = np.random.uniform(size=(n, 2))\n",
        "\n",
        "# função relu, usada comunmente como função de ativação em \n",
        "# redes neurais.\n",
        "def relu(x):\n",
        "    return x * (x > 0)\n",
        "\n",
        "# Dois conjuntos de pesos: W e B para a primeira camada, V e a para a segunda.\n",
        "W = np.array([[0.2, 0.7], [-0.4, 0.5]])\n",
        "B = np.array([0.1, -0.2])\n",
        "V = np.array([[0.6], [0.7]])\n",
        "a = 0.9\n",
        "\n",
        "# O y é gerado dessa forma\n",
        "# `np.dot()` é a mesma coisa que multiplição de matrizes.\n",
        "y = relu(np.dot(X, W) + B)\n",
        "y = np.dot(y, V) + a"
      ],
      "execution_count": null,
      "outputs": []
    },
    {
      "cell_type": "markdown",
      "metadata": {},
      "source": [
        "Agora que os dados foram gerados vamos definir o modelo. Pontos importantes:\n",
        "\n",
        "1. A camada de input agora tem shape `(2,)`, isto é o input é uma matriz com `n`\n",
        "linhas e **`2`** colunas.\n",
        "2. A camada *escondida* (hidden layer) do modelo possui `1000` unidades (ou neurônios).\n",
        "A função de ativação é `relu`. É muito importante que as camadas intermediárias do MLP\n",
        "possuam uma função de ativação."
      ]
    },
    {
      "cell_type": "code",
      "metadata": {},
      "source": [
        "input = keras.layers.Input(shape=(2,))\n",
        "hidden = keras.layers.Dense(units=1000, activation=\"relu\")(input)\n",
        "output = keras.layers.Dense(units=1)(hidden)\n",
        "\n",
        "model = keras.Model(inputs=input, outputs=output)\n",
        "model.summary()"
      ],
      "execution_count": null,
      "outputs": []
    },
    {
      "cell_type": "markdown",
      "metadata": {},
      "source": [
        "A quantidade de parâmetros da primeira camada é dada por:\n",
        "\n",
        "- 2 parâmetros para cada neurônio (um por coluna do input) = 2000\n",
        "- 1 viés para cada neurônio = 1000\n",
        "- **Total**: 3000 \n",
        "\n",
        "Para a camada de output temos fazemos:\n",
        "\n",
        "- 1000 parâmetros para cada neurônio = 1000\n",
        "- 1 viés para cada neurônios = 1\n",
        "- **Total** = 1001\n",
        "\n",
        "Agora da mesma forma que nos exemplos anteriores definimos a loss e o otimizador.\n",
        "Veja que o Keras também permite usar strings para definir esses atributos - `'mse'` é\n",
        "um atalho para `keras.losses.mean_squared_error`."
      ]
    },
    {
      "cell_type": "code",
      "metadata": {},
      "source": [
        "model.compile(loss=\"mse\", optimizer=\"sgd\")"
      ],
      "execution_count": null,
      "outputs": []
    },
    {
      "cell_type": "markdown",
      "metadata": {},
      "source": [
        "Finalmente podemos ajustar o modelo:"
      ]
    },
    {
      "cell_type": "code",
      "metadata": {},
      "source": [
        "history = model.fit(x=X, y=y, batch_size=10, epochs=5, verbose=2)"
      ],
      "execution_count": null,
      "outputs": []
    }
  ],
  "metadata": {
    "kernelspec": {
      "name": "python3",
      "language": "python",
      "display_name": "Python 3 (ipykernel)"
    }
  },
  "nbformat": 4,
  "nbformat_minor": 4
}