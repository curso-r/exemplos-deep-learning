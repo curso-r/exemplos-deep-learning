{
  "cells": [
    {
      "cell_type": "raw",
      "metadata": {},
      "source": [
        "---\n",
        "title: MNIST\n",
        "---"
      ]
    },
    {
      "cell_type": "markdown",
      "metadata": {},
      "source": [
        "Falamos um pouco do MNIST no [exemplo 6](./06-convolution.html) e neste exemplo\n",
        "vamos ajustar uma rede neural convolucional para prever os dígitios do MNIST."
      ]
    },
    {
      "cell_type": "code",
      "metadata": {},
      "source": [
        "from tensorflow import keras\n",
        "import numpy as np\n",
        "from sklearn import metrics\n",
        "import matplotlib.pyplot as plt"
      ],
      "execution_count": null,
      "outputs": []
    },
    {
      "cell_type": "markdown",
      "metadata": {},
      "source": [
        "O banco de dados do MNIST pode ser obtido usando funções prontas do Keras."
      ]
    },
    {
      "cell_type": "code",
      "metadata": {},
      "source": [
        "(x_train, y_train), (x_test, y_test) = keras.datasets.mnist.load_data()"
      ],
      "execution_count": null,
      "outputs": []
    },
    {
      "cell_type": "markdown",
      "metadata": {},
      "source": [
        "Agora podemos visualizar algumas imagens do banco de dados:"
      ]
    },
    {
      "cell_type": "code",
      "metadata": {},
      "source": [
        "#| column: screen-right\n",
        "#| layout-ncol: 3\n",
        "plt.imshow(x_train[0])\n",
        "plt.show()\n",
        "plt.imshow(x_train[1])\n",
        "plt.show()\n",
        "plt.imshow(x_train[2])\n",
        "plt.show()"
      ],
      "execution_count": null,
      "outputs": []
    },
    {
      "cell_type": "markdown",
      "metadata": {},
      "source": [
        "Os vetores `y_train` e `y_test` possuem o valor representado pelo dígito que\n",
        "está na imagem."
      ]
    },
    {
      "cell_type": "code",
      "metadata": {},
      "source": [
        "print(y_train[0:3])"
      ],
      "execution_count": null,
      "outputs": []
    },
    {
      "cell_type": "markdown",
      "metadata": {},
      "source": [
        "Note que as imagens do MNIST são tamanho 28x28x1 (o 1 vem do núemro de canais - como a \n",
        "imagem é P&B só temos 1 canal.)"
      ]
    },
    {
      "cell_type": "code",
      "metadata": {},
      "source": [
        "x_train.shape"
      ],
      "execution_count": null,
      "outputs": []
    },
    {
      "cell_type": "markdown",
      "metadata": {},
      "source": [
        "Agora vamos definir o modelo. Ponto importantes:\n",
        "\n",
        "1. O input do modelo tem formato 28x28x1. Isso é a altura e largura das imagens\n",
        "do input é 28 e a imagem é P&B, 1 canal.\n",
        "2. As imagens estão representadas por número inteiros de 0 a 255, é importante\n",
        "fazer o *rescaling*  e transformar esses valores em números entre 0 e 1, para não\n",
        "termos problemas com o algoritmo de otimização.\n",
        "3. Estamos usando 4 blocos de convolução/ pooling. Em cada um deles aumentamos o\n",
        "número de filtros da convolução e o 'pooling' será reponsável por diminuir o\n",
        "tamanho da imagem.\n",
        "4. O `Flatten` tira as dimensões que não estão sendo usadas e transforma o output\n",
        "em um **vetor**.\n",
        "5. No final colocamos um MLP. Note que o número de outputs da última camada é 10,\n",
        "pois temos 10 classes possíveis (dígitos de 0 a 9). A ativação é softmax pois \n",
        "cada imagem pertence a uma única classe. Portanto as probabilidades por linha devem\n",
        "somar 1."
      ]
    },
    {
      "cell_type": "code",
      "metadata": {},
      "source": [
        "input = keras.layers.Input(shape=(28, 28, 1))\n",
        "output = keras.layers.Rescaling(1.0/255.0)(input)\n",
        "\n",
        "output = keras.layers.Conv2D(\n",
        "    kernel_size=(3, 3), filters=32, activation=\"relu\", padding=\"same\"\n",
        ")(output)\n",
        "output = keras.layers.MaxPool2D(pool_size=(2, 2))(output)\n",
        "\n",
        "output = keras.layers.Conv2D(\n",
        "    kernel_size=(3, 3), filters=64, activation=\"relu\", padding=\"same\"\n",
        ")(output)\n",
        "output = keras.layers.MaxPool2D(pool_size=(2, 2))(output)\n",
        "\n",
        "output = keras.layers.Conv2D(\n",
        "    kernel_size=(3, 3), filters=128, activation=\"relu\", padding=\"same\"\n",
        ")(output)\n",
        "output = keras.layers.MaxPool2D(pool_size=(2, 2))(output)\n",
        "\n",
        "output = keras.layers.Conv2D(\n",
        "    kernel_size=(3, 3), filters=256, activation=\"relu\", padding=\"same\"\n",
        ")(output)\n",
        "output = keras.layers.MaxPool2D(pool_size=(2, 2))(output)\n",
        "\n",
        "output = keras.layers.Flatten()(output)\n",
        "output = keras.layers.Dense(128, activation=\"relu\")(output)\n",
        "output = keras.layers.Dense(10, activation=\"softmax\")(output)"
      ],
      "execution_count": null,
      "outputs": []
    },
    {
      "cell_type": "markdown",
      "metadata": {},
      "source": [
        "Agora criamos o modelo do Keras"
      ]
    },
    {
      "cell_type": "code",
      "metadata": {},
      "source": [
        "#| column: screen-right\n",
        "#| layout-ncol: 1\n",
        "model = keras.Model(inputs=input, outputs=output)\n",
        "model.summary()"
      ],
      "execution_count": null,
      "outputs": []
    },
    {
      "cell_type": "markdown",
      "metadata": {},
      "source": [
        "Veja o número de parâmetros da primeira camada de convolução. Você pode pensar da seguinte forma:\n",
        "\n",
        "1. Cada kernel tem 3x3 parâmetros.\n",
        "2. Cada filtro tem 1 kernel.\n",
        "3. Cada filtro possui um viés.\n",
        "4. Total: 3x3x32 + 32\n",
        "\n",
        "Para a segunda camada a conta é a mesma, mas o input agora não possui apenas um canal. \n",
        "Agora o input possui 32 canais então pensamos:\n",
        "\n",
        "1. Cada kernel tem 3x3x32 parâmetros.\n",
        "2. Cada filtro tem 1 kernel.\n",
        "3. Cada filtro possui um viés.\n",
        "4. Total: 3x3x32x64 + 64\n",
        "\n",
        "Agora podemos compilar o modelo.\n",
        "Usamos a 'sparse_categorical_crossentropy' pois o problema de classificação em muitas classes.\n",
        "O `sparse` é usado para não precisar transformar o vetor de resposta `y_train` em uma\n",
        "matriz com one-hot encode."
      ]
    },
    {
      "cell_type": "code",
      "metadata": {},
      "source": [
        "model.compile(loss=\"sparse_categorical_crossentropy\", optimizer=\"sgd\", metrics=[\"accuracy\"])"
      ],
      "execution_count": null,
      "outputs": []
    },
    {
      "cell_type": "markdown",
      "metadata": {},
      "source": [
        "Então, podemos ajustar o modelo:"
      ]
    },
    {
      "cell_type": "code",
      "metadata": {},
      "source": [
        "#| column: screen-right\n",
        "#| layout-ncol: 1\n",
        "model.fit(x_train, y_train, batch_size=32, epochs=5, validation_split=0.2,\n",
        "          verbose=2)"
      ],
      "execution_count": null,
      "outputs": []
    },
    {
      "cell_type": "markdown",
      "metadata": {},
      "source": [
        "Vamos também verificar a matriz de confusão para a base de teste. Note que para \n",
        "encontrar a classe predita, pegamos a classe com maior probabilidade."
      ]
    },
    {
      "cell_type": "code",
      "metadata": {},
      "source": [
        "metrics.confusion_matrix(\n",
        "    y_test, np.argmax(model.predict(x_test), axis=1)\n",
        ")"
      ],
      "execution_count": null,
      "outputs": []
    }
  ],
  "metadata": {
    "kernelspec": {
      "name": "python3",
      "language": "python",
      "display_name": "Python 3 (ipykernel)"
    }
  },
  "nbformat": 4,
  "nbformat_minor": 4
}