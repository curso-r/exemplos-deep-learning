{
  "cells": [
    {
      "cell_type": "raw",
      "metadata": {},
      "source": [
        "---\n",
        "title: Quora\n",
        "execute:\n",
        "  eval: false\n",
        "---"
      ]
    },
    {
      "cell_type": "markdown",
      "metadata": {},
      "source": [
        "Exemplo de modelo para comparação de duas perguntas do Quora. Originalmente o banco de dados a seguir apareceu em uma competição do [Kaggle](https://kaggle.com), o objetivo era, dado um par de perguntas responder se elas eram duplicadas ou não."
      ]
    },
    {
      "cell_type": "code",
      "metadata": {},
      "source": [
        "#| eval: true\n",
        "import pandas as pd\n",
        "from tensorflow import keras\n",
        "import numpy as np"
      ],
      "execution_count": null,
      "outputs": []
    },
    {
      "cell_type": "markdown",
      "metadata": {},
      "source": [
        "Primeiro baixamos o banco de dados:"
      ]
    },
    {
      "cell_type": "code",
      "metadata": {},
      "source": [
        "#| eval: true\n",
        "dataset = pd.read_csv(\"https://storage.googleapis.com/deep-learning-com-r/quora.csv.zip\")"
      ],
      "execution_count": null,
      "outputs": []
    },
    {
      "cell_type": "markdown",
      "metadata": {},
      "source": [
        "Veja alguns dos pares de perguntas:"
      ]
    },
    {
      "cell_type": "code",
      "metadata": {},
      "source": [
        "#| eval: true\n",
        "dataset.head(5)"
      ],
      "execution_count": null,
      "outputs": []
    },
    {
      "cell_type": "markdown",
      "metadata": {},
      "source": [
        "Vamos arrumar um pouquinho os dados, colocando em variáveis:"
      ]
    },
    {
      "cell_type": "code",
      "metadata": {},
      "source": [
        "#| eval: true\n",
        "p1 = dataset[\"question1\"].to_numpy().astype(\"str\")\n",
        "p2 = dataset[\"question2\"].to_numpy().astype(\"str\")\n",
        "y = dataset[\"is_duplicate\"].to_numpy().astype(\"float\")"
      ],
      "execution_count": null,
      "outputs": []
    },
    {
      "cell_type": "markdown",
      "metadata": {},
      "source": [
        "Então podemos definir a camada de vetorização. Lembre-se que essa camada precisa\n",
        "ser 'adaptada' antes de ser usada."
      ]
    },
    {
      "cell_type": "code",
      "metadata": {},
      "source": [
        "#| eval: true\n",
        "vectorize = keras.layers.TextVectorization(max_tokens=50000, output_mode=\"int\",\n",
        "            pad_to_max_tokens=True)\n",
        "vectorize.adapt(np.append(p1, p2))"
      ],
      "execution_count": null,
      "outputs": []
    },
    {
      "cell_type": "markdown",
      "metadata": {},
      "source": [
        "Agora vamos definir o modelo:\n",
        "\n",
        "-   Esse modelo possui dois inputs: a pergunta 1 e a pergunta 2.\n",
        "-   Queremos que o nosso modelo retorne a probabilidade das duas perguntas serem duplicadas.\n",
        "-   Queremos que para o modelo não importe a ordem das perguntas. Isto é, se trocarmos a pergunta 1 pela pergunta 2 deveria dar a mesma probabilidade.\n",
        "\n",
        "Vamos definir o modelo no Keras:"
      ]
    },
    {
      "cell_type": "code",
      "metadata": {},
      "source": [
        "#| eval: true\n",
        "pergunta1 = keras.layers.Input(shape=(), dtype=\"string\")\n",
        "pergunta2 = keras.layers.Input(shape=(), dtype=\"string\")"
      ],
      "execution_count": null,
      "outputs": []
    },
    {
      "cell_type": "markdown",
      "metadata": {},
      "source": [
        "Agora, queremos colocar camadas capazes de transformar cada pergunta em um vetor.\n",
        "Poderíamos usar um modelo pré-treinado, mas nesse exemplo vamos fazer do zero."
      ]
    },
    {
      "cell_type": "code",
      "metadata": {},
      "source": [
        "#| eval: true\n",
        "input = keras.layers.Input(shape=(), dtype=\"string\")\n",
        "encoded = vectorize(input)\n",
        "encoded = keras.layers.Embedding(len(vectorize.get_vocabulary()), 256)(encoded)\n",
        "encoded = keras.layers.LSTM(units=128)(encoded)\n",
        "encode_sequence = keras.Model(inputs=input, outputs=encoded)"
      ],
      "execution_count": null,
      "outputs": []
    },
    {
      "cell_type": "markdown",
      "metadata": {},
      "source": [
        "Agora que definimos o submodelo, vamos continuar a definição do modelo inicial."
      ]
    },
    {
      "cell_type": "code",
      "metadata": {},
      "source": [
        "#| eval: true\n",
        "vetor_pergunta1 = encode_sequence(pergunta1)\n",
        "vetor_pergunta2 = encode_sequence(pergunta2)"
      ],
      "execution_count": null,
      "outputs": []
    },
    {
      "cell_type": "markdown",
      "metadata": {},
      "source": [
        "`vetor_pergunta(1|2)` é um vetor que representa cada uma das perguntas. Podemos calcular uma medida de distância entre esses dois vetores para determinar se as perguntas são parecidas ou não."
      ]
    },
    {
      "cell_type": "code",
      "metadata": {},
      "source": [
        "#| eval: true\n",
        "output = keras.layers.Dot(axes=1)([vetor_pergunta1, vetor_pergunta2])\n",
        "output = keras.layers.Dense(units=1, activation=\"sigmoid\")(output)"
      ],
      "execution_count": null,
      "outputs": []
    },
    {
      "cell_type": "markdown",
      "metadata": {},
      "source": [
        "Podemos então definir o modelo:"
      ]
    },
    {
      "cell_type": "code",
      "metadata": {},
      "source": [
        "#| eval: true\n",
        "model = keras.Model(inputs=[pergunta1, pergunta2], outputs=output)\n",
        "model.summary()"
      ],
      "execution_count": null,
      "outputs": []
    },
    {
      "cell_type": "markdown",
      "metadata": {},
      "source": [
        "Agora é só compilar e ajustar:"
      ]
    },
    {
      "cell_type": "code",
      "metadata": {},
      "source": [
        "auc = keras.metrics.AUC(curve=\"ROC\")\n",
        "model.compile(loss=\"binary_crossentropy\", optimizer=\"sgd\", metrics=[\"accuracy\", auc])\n",
        "model.fit(x=(p1, p2), y=y, epochs=5, batch_size=32, validation_split=0.2, verbose=1)"
      ],
      "execution_count": null,
      "outputs": []
    }
  ],
  "metadata": {
    "kernelspec": {
      "name": "python3",
      "language": "python",
      "display_name": "Python 3 (ipykernel)"
    }
  },
  "nbformat": 4,
  "nbformat_minor": 4
}