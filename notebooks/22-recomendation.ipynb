{
  "cells": [
    {
      "cell_type": "raw",
      "metadata": {},
      "source": [
        "---\n",
        "title: Recomendação\n",
        "---"
      ]
    },
    {
      "cell_type": "markdown",
      "metadata": {},
      "source": [
        "Nesse exemplo vamos criar um modelo de recomendação baseado no código [daqui](https://keras.io/examples/structured_data/collaborative_filtering_movielens/)"
      ]
    },
    {
      "cell_type": "code",
      "metadata": {},
      "source": [
        "from tensorflow import keras\n",
        "import pandas as pd\n",
        "import os\n",
        "import tensorflow as tf\n",
        "import numpy as np"
      ],
      "execution_count": null,
      "outputs": []
    },
    {
      "cell_type": "markdown",
      "metadata": {},
      "source": [
        "Vamos primeiro baixar os dados:"
      ]
    },
    {
      "cell_type": "code",
      "metadata": {},
      "source": [
        "movielens_data_file_url = (\n",
        "    \"http://files.grouplens.org/datasets/movielens/ml-latest-small.zip\"\n",
        ")\n",
        "\n",
        "movielens_path = keras.utils.get_file(\n",
        "    \"ml-latest-small.zip\", movielens_data_file_url, extract=True\n",
        ")\n",
        "\n",
        "ratings = os.path.dirname(movielens_path) + \"/ml-latest-small\" + \"/ratings.csv\"\n",
        "df = pd.read_csv(ratings)\n",
        "df"
      ],
      "execution_count": null,
      "outputs": []
    },
    {
      "cell_type": "markdown",
      "metadata": {},
      "source": [
        "Agora vamos transformar cada usuário e cada filme em um número inteiro, para poder\n",
        "usá-los em uma camada de embedding:"
      ]
    },
    {
      "cell_type": "code",
      "metadata": {},
      "source": [
        "user_ids = df[\"userId\"].unique().tolist()\n",
        "user2user_encoded = {x: i for i, x in enumerate(user_ids)}\n",
        "userencoded2user = {i: x for i, x in enumerate(user_ids)}\n",
        "movie_ids = df[\"movieId\"].unique().tolist()\n",
        "movie2movie_encoded = {x: i for i, x in enumerate(movie_ids)}\n",
        "movie_encoded2movie = {i: x for i, x in enumerate(movie_ids)}\n",
        "df[\"user\"] = df[\"userId\"].map(user2user_encoded)\n",
        "df[\"movie\"] = df[\"movieId\"].map(movie2movie_encoded)\n",
        "df[\"rating\"] = df[\"rating\"]/5"
      ],
      "execution_count": null,
      "outputs": []
    },
    {
      "cell_type": "markdown",
      "metadata": {},
      "source": [
        "Agora podemos definir um modelo:"
      ]
    },
    {
      "cell_type": "code",
      "metadata": {},
      "source": [
        "class RecommenderNet(keras.Model):\n",
        "    def __init__(self, num_users, num_movies, embedding_size, **kwargs):\n",
        "      super(RecommenderNet, self).__init__(**kwargs)\n",
        "      self.num_users = num_users\n",
        "      self.num_movies = num_movies\n",
        "      self.embedding_size = embedding_size\n",
        "      self.user_embedding = keras.layers.Embedding(\n",
        "          num_users,\n",
        "          embedding_size,\n",
        "          embeddings_initializer=\"he_normal\",\n",
        "          embeddings_regularizer=keras.regularizers.l2(1e-6),\n",
        "      )\n",
        "      self.user_bias = keras.layers.Embedding(num_users, 1)\n",
        "      self.movie_embedding = keras.layers.Embedding(\n",
        "          num_movies,\n",
        "          embedding_size,\n",
        "          embeddings_initializer=\"he_normal\",\n",
        "          embeddings_regularizer=keras.regularizers.l2(1e-6),\n",
        "      )\n",
        "      self.movie_bias = keras.layers.Embedding(num_movies, 1)\n",
        "      self.dot = keras.layers.Dot(axes=1)\n",
        "    def call(self, inputs):\n",
        "      users, movies = inputs\n",
        "      user_vector = self.user_embedding(users)\n",
        "      user_bias = self.user_bias(users)\n",
        "      movie_vector = self.movie_embedding(movies)\n",
        "      movie_bias = self.movie_bias(movies)\n",
        "      dot_user_movie = self.dot([user_vector, movie_vector])\n",
        "      x = dot_user_movie + user_bias + movie_bias\n",
        "      return tf.nn.sigmoid(x)"
      ],
      "execution_count": null,
      "outputs": []
    },
    {
      "cell_type": "markdown",
      "metadata": {},
      "source": [
        "Vamos então compilar o modelo:"
      ]
    },
    {
      "cell_type": "code",
      "metadata": {},
      "source": [
        "num_users = len(user2user_encoded)\n",
        "num_movies = len(movie_encoded2movie)\n",
        "\n",
        "model = RecommenderNet(num_users, num_movies, 50)\n",
        "model.compile(\n",
        "    loss=tf.keras.losses.BinaryCrossentropy(), \n",
        "    optimizer=keras.optimizers.Adam(learning_rate=0.001)\n",
        ")"
      ],
      "execution_count": null,
      "outputs": []
    },
    {
      "cell_type": "markdown",
      "metadata": {},
      "source": [
        "Agora podemos ajustar o modelo com:"
      ]
    },
    {
      "cell_type": "code",
      "metadata": {},
      "source": [
        "data = (df.user.to_numpy(), \n",
        "        df.movie.to_numpy())\n",
        "\n",
        "model.fit(data, df.rating.to_numpy(), \n",
        "    batch_size=64,\n",
        "    epochs=5,\n",
        "    verbose=2\n",
        "    )"
      ],
      "execution_count": null,
      "outputs": []
    },
    {
      "cell_type": "markdown",
      "metadata": {},
      "source": [
        "Agora para um usuário, podemos ver os filmes recomendados:"
      ]
    },
    {
      "cell_type": "code",
      "metadata": {},
      "source": [
        "movie_df = pd.read_csv(os.path.dirname(movielens_path) + \"/ml-latest-small\"+ \"/movies.csv\")\n",
        "\n",
        "# Let us get a user and see the top recommendations.\n",
        "user_id = df.userId.sample(1).iloc[0]\n",
        "movies_watched_by_user = df[df.userId == user_id]\n",
        "movies_not_watched = movie_df[\n",
        "    ~movie_df[\"movieId\"].isin(movies_watched_by_user.movieId.values)\n",
        "][\"movieId\"]\n",
        "movies_not_watched = list(\n",
        "    set(movies_not_watched).intersection(set(movie2movie_encoded.keys()))\n",
        ")\n",
        "movies_not_watched = [[movie2movie_encoded.get(x)] for x in movies_not_watched]\n",
        "user_encoder = user2user_encoded.get(user_id)\n",
        "user_movie_array = np.hstack(\n",
        "    ([[user_encoder]] * len(movies_not_watched), movies_not_watched)\n",
        ")\n",
        "\n",
        "ratings = model.predict((user_movie_array[:,0],user_movie_array[:,1])).flatten()\n",
        "top_ratings_indices = ratings.argsort()[-10:][::-1]\n",
        "recommended_movie_ids = [\n",
        "    movie_encoded2movie.get(movies_not_watched[x][0]) for x in top_ratings_indices\n",
        "]\n",
        "\n",
        "print(\"Showing recommendations for user: {}\".format(user_id))\n",
        "print(\"====\" * 9)\n",
        "print(\"Movies with high ratings from user\")\n",
        "print(\"----\" * 8)\n",
        "top_movies_user = (\n",
        "    movies_watched_by_user.sort_values(by=\"rating\", ascending=False)\n",
        "    .head(5)\n",
        "    .movieId.values\n",
        ")\n",
        "movie_df_rows = movie_df[movie_df[\"movieId\"].isin(top_movies_user)]\n",
        "for row in movie_df_rows.itertuples():\n",
        "    print(row.title, \":\", row.genres)\n",
        "\n",
        "print(\"----\" * 8)\n",
        "print(\"Top 10 movie recommendations\")\n",
        "print(\"----\" * 8)\n",
        "recommended_movies = movie_df[movie_df[\"movieId\"].isin(recommended_movie_ids)]\n",
        "for row in recommended_movies.itertuples():\n",
        "    print(row.title, \":\", row.genres)"
      ],
      "execution_count": null,
      "outputs": []
    }
  ],
  "metadata": {
    "kernelspec": {
      "name": "python3",
      "language": "python",
      "display_name": "Python 3 (ipykernel)"
    }
  },
  "nbformat": 4,
  "nbformat_minor": 4
}